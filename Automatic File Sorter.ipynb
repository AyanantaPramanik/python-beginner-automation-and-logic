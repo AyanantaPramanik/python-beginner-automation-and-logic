{
 "cells": [
  {
   "cell_type": "code",
   "execution_count": 50,
   "id": "275d678f-b743-4af8-afef-2702997412d9",
   "metadata": {},
   "outputs": [],
   "source": [
    "import os\n",
    "import shutil\n",
    "\n",
    "path = r\"C:/Users/jayan/OneDrive/Desktop/EDA/Cogni Intern/\"\n",
    "file_names = os.listdir(path)\n",
    "folder_names = ['pdf files', 'zip files', 'csv files']\n",
    "\n",
    "# Create folders if they do not exist\n",
    "for folder in folder_names:\n",
    "    folder_path = os.path.join(path, folder)\n",
    "    if not os.path.exists(folder_path):\n",
    "        os.makedirs(folder_path)\n",
    "\n",
    "# Move files to appropriate folders based on file extension\n",
    "for file in file_names:\n",
    "    full_file_path = os.path.join(path, file)\n",
    "    \n",
    "    if file.lower().endswith(\".csv\") and os.path.isfile(full_file_path):\n",
    "        shutil.move(full_file_path, os.path.join(path, \"csv files\", file))\n",
    "    elif file.lower().endswith(\".pdf\") and os.path.isfile(full_file_path):\n",
    "        shutil.move(full_file_path, os.path.join(path, \"pdf files\", file))\n",
    "    elif file.lower().endswith(\".zip\") and os.path.isfile(full_file_path):\n",
    "        shutil.move(full_file_path, os.path.join(path, \"zip files\", file))"
   ]
  },
  {
   "cell_type": "code",
   "execution_count": null,
   "id": "49895e4c-05b9-41ee-9ba6-38145569a38a",
   "metadata": {},
   "outputs": [],
   "source": []
  },
  {
   "cell_type": "code",
   "execution_count": null,
   "id": "4dfcaccc-6f97-4baf-86d1-9cfd08acd8bb",
   "metadata": {},
   "outputs": [],
   "source": []
  },
  {
   "cell_type": "code",
   "execution_count": null,
   "id": "61760022-f140-4c25-a1f6-febbc850ce5d",
   "metadata": {},
   "outputs": [],
   "source": []
  },
  {
   "cell_type": "code",
   "execution_count": null,
   "id": "3b9475f8-c6f8-4067-b532-d6e81f2b0e03",
   "metadata": {},
   "outputs": [],
   "source": []
  },
  {
   "cell_type": "code",
   "execution_count": null,
   "id": "b482e26f-787b-4afd-a02e-da44283b95e2",
   "metadata": {},
   "outputs": [],
   "source": []
  },
  {
   "cell_type": "code",
   "execution_count": null,
   "id": "55ca2da7-c15e-4fea-a00a-7c66eceaa9c4",
   "metadata": {},
   "outputs": [],
   "source": []
  },
  {
   "cell_type": "code",
   "execution_count": null,
   "id": "2be097fe-79da-4d07-8f58-0c5cec9d712b",
   "metadata": {},
   "outputs": [],
   "source": []
  },
  {
   "cell_type": "code",
   "execution_count": null,
   "id": "38f7714e-f4c6-4e23-a87c-8db01d4e7ffa",
   "metadata": {},
   "outputs": [],
   "source": []
  },
  {
   "cell_type": "code",
   "execution_count": null,
   "id": "197b2906-fa87-4636-8235-a212a7768e0f",
   "metadata": {},
   "outputs": [],
   "source": []
  },
  {
   "cell_type": "code",
   "execution_count": null,
   "id": "67b04c4d-e009-4838-a0f7-2b8b63b229a0",
   "metadata": {},
   "outputs": [],
   "source": []
  },
  {
   "cell_type": "code",
   "execution_count": null,
   "id": "d2526615-d7bd-4da8-b8bc-ed2eaca15102",
   "metadata": {},
   "outputs": [],
   "source": []
  },
  {
   "cell_type": "code",
   "execution_count": null,
   "id": "ef134001-2875-4579-8400-6e276e14a432",
   "metadata": {},
   "outputs": [],
   "source": []
  },
  {
   "cell_type": "code",
   "execution_count": null,
   "id": "21faa3b1-c36d-4121-a10b-4f90dfb00dfd",
   "metadata": {},
   "outputs": [],
   "source": []
  },
  {
   "cell_type": "code",
   "execution_count": null,
   "id": "11033c57-b433-47e0-ad2b-8a34e8f8bb89",
   "metadata": {},
   "outputs": [],
   "source": []
  },
  {
   "cell_type": "code",
   "execution_count": null,
   "id": "55fc4dc8-6dab-4677-b7d9-29866516649b",
   "metadata": {},
   "outputs": [],
   "source": []
  },
  {
   "cell_type": "code",
   "execution_count": null,
   "id": "b1735e77-a847-48b4-ac5b-cd3734746d28",
   "metadata": {},
   "outputs": [],
   "source": []
  },
  {
   "cell_type": "code",
   "execution_count": null,
   "id": "9632287e-d181-4ec0-9174-5b6641ab5d6a",
   "metadata": {},
   "outputs": [],
   "source": []
  },
  {
   "cell_type": "code",
   "execution_count": null,
   "id": "3fee602c-d022-4ea3-92a9-8b5dbda9f9b8",
   "metadata": {},
   "outputs": [],
   "source": []
  },
  {
   "cell_type": "code",
   "execution_count": null,
   "id": "5ef34744-2ba1-4b00-9a36-720dc542cc23",
   "metadata": {},
   "outputs": [],
   "source": []
  }
 ],
 "metadata": {
  "kernelspec": {
   "display_name": "Python [conda env:base] *",
   "language": "python",
   "name": "conda-base-py"
  },
  "language_info": {
   "codemirror_mode": {
    "name": "ipython",
    "version": 3
   },
   "file_extension": ".py",
   "mimetype": "text/x-python",
   "name": "python",
   "nbconvert_exporter": "python",
   "pygments_lexer": "ipython3",
   "version": "3.12.7"
  }
 },
 "nbformat": 4,
 "nbformat_minor": 5
}
