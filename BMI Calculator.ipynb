{
 "cells": [
  {
   "cell_type": "code",
   "execution_count": 4,
   "id": "755c70b4-25b4-4c91-a8d8-e9003ff4eb48",
   "metadata": {},
   "outputs": [
    {
     "name": "stdin",
     "output_type": "stream",
     "text": [
      "Enter your weight in kilograms:  asasas\n"
     ]
    },
    {
     "name": "stdout",
     "output_type": "stream",
     "text": [
      "Please enter valid numeric values for weight and height.\n"
     ]
    }
   ],
   "source": [
    "def calculate_bmi(weight_kg, height_cm):\n",
    "    height_m = height_cm / 100  # converting height to meters\n",
    "    bmi = weight_kg / (height_m ** 2)\n",
    "    return bmi\n",
    "\n",
    "def classify_bmi(bmi):\n",
    "    if bmi < 16:\n",
    "        return \"Severely Underweight\"\n",
    "    elif 16 <= bmi < 17:\n",
    "        return \"Moderately Underweight\"\n",
    "    elif 17 <= bmi < 18.5:\n",
    "        return \"Mildly Underweight\"\n",
    "    elif 18.5 <= bmi < 25:\n",
    "        return \"Normal\"\n",
    "    elif 25 <= bmi < 30:\n",
    "        return \"Overweight\"\n",
    "    elif 30 <= bmi < 35:\n",
    "        return \"Obese Class I (Moderate)\"\n",
    "    elif 35 <= bmi < 40:\n",
    "        return \"Obese Class II (Severe)\"\n",
    "    else:\n",
    "        return \"Obese Class III (Morbidly Obese)\"\n",
    "\n",
    "def main():\n",
    "    try:\n",
    "        weight = float(input(\"Enter your weight in kilograms: \"))\n",
    "        height = float(input(\"Enter your height in centimeters: \"))\n",
    "\n",
    "        if weight <= 0 or height <= 0:\n",
    "            print(\"Weight and height must be positive numbers.\")\n",
    "            return\n",
    "\n",
    "        bmi = calculate_bmi(weight, height)\n",
    "        category = classify_bmi(bmi)\n",
    "\n",
    "        print(f\"\\nYour BMI is: {bmi:.2f}\")\n",
    "        print(f\"BMI Category: {category}\")\n",
    "    except ValueError:\n",
    "        print(\"Please enter valid numeric values for weight and height.\")\n",
    "\n",
    "if __name__ == \"__main__\":\n",
    "    main()"
   ]
  }
 ],
 "metadata": {
  "kernelspec": {
   "display_name": "Python [conda env:base] *",
   "language": "python",
   "name": "conda-base-py"
  },
  "language_info": {
   "codemirror_mode": {
    "name": "ipython",
    "version": 3
   },
   "file_extension": ".py",
   "mimetype": "text/x-python",
   "name": "python",
   "nbconvert_exporter": "python",
   "pygments_lexer": "ipython3",
   "version": "3.12.7"
  }
 },
 "nbformat": 4,
 "nbformat_minor": 5
}
